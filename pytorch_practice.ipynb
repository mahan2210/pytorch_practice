{
  "nbformat": 4,
  "nbformat_minor": 0,
  "metadata": {
    "colab": {
      "provenance": [],
      "gpuType": "T4",
      "authorship_tag": "ABX9TyMXqq5pOc09f4FVVN59AADP",
      "include_colab_link": true
    },
    "kernelspec": {
      "name": "python3",
      "display_name": "Python 3"
    },
    "language_info": {
      "name": "python"
    },
    "accelerator": "GPU"
  },
  "cells": [
    {
      "cell_type": "markdown",
      "metadata": {
        "id": "view-in-github",
        "colab_type": "text"
      },
      "source": [
        "<a href=\"https://colab.research.google.com/github/mahan2210/pytorch_practice/blob/main/pytorch_practice.ipynb\" target=\"_parent\"><img src=\"https://colab.research.google.com/assets/colab-badge.svg\" alt=\"Open In Colab\"/></a>"
      ]
    },
    {
      "cell_type": "code",
      "execution_count": null,
      "metadata": {
        "colab": {
          "base_uri": "https://localhost:8080/"
        },
        "id": "UuzoPBnF0PCH",
        "outputId": "f061bea8-cf00-401b-9d94-c969609fe552"
      },
      "outputs": [
        {
          "output_type": "stream",
          "name": "stdout",
          "text": [
            "2.3.1+cu121\n",
            "True\n"
          ]
        }
      ],
      "source": [
        "import torch\n",
        "\n",
        "print(torch.__version__)\n",
        "print(torch.cuda.is_available())"
      ]
    },
    {
      "cell_type": "code",
      "source": [
        "first_tens= torch.tensor([[12,10,11,9],[13,15,14,16]])\n",
        "second_tens= torch.tensor([[1,2,3,4],[5,6,7,8]])\n",
        "\n",
        "add_tens = first_tens +second_tens\n",
        "print(add_tens)\n",
        "print(add_tens.size())\n"
      ],
      "metadata": {
        "colab": {
          "base_uri": "https://localhost:8080/"
        },
        "id": "jy2_Dvpa0ooE",
        "outputId": "ceed4cad-4882-435c-c1d7-449e06126f5e"
      },
      "execution_count": null,
      "outputs": [
        {
          "output_type": "stream",
          "name": "stdout",
          "text": [
            "tensor([[13, 12, 14, 13],\n",
            "        [18, 21, 21, 24]])\n",
            "torch.Size([2, 4])\n"
          ]
        }
      ]
    },
    {
      "cell_type": "code",
      "source": [
        "sub_tens = first_tens -second_tens\n",
        "print(sub_tens)\n",
        "print(sub_tens.size())"
      ],
      "metadata": {
        "colab": {
          "base_uri": "https://localhost:8080/"
        },
        "id": "rq0VuCSx2-8l",
        "outputId": "9680a691-f4de-4ec2-d83c-fd61ac7659d1"
      },
      "execution_count": null,
      "outputs": [
        {
          "output_type": "stream",
          "name": "stdout",
          "text": [
            "tensor([[11,  8,  8,  5],\n",
            "        [ 8,  9,  7,  8]])\n",
            "torch.Size([2, 4])\n"
          ]
        }
      ]
    },
    {
      "cell_type": "code",
      "source": [
        "print(torch.__version__)"
      ],
      "metadata": {
        "colab": {
          "base_uri": "https://localhost:8080/"
        },
        "id": "EDcpySXT3Nxy",
        "outputId": "1e3abe16-e59b-43f5-c0e2-d2f1ed28d7dc"
      },
      "execution_count": null,
      "outputs": [
        {
          "output_type": "stream",
          "name": "stdout",
          "text": [
            "2.3.1+cu121\n"
          ]
        }
      ]
    },
    {
      "cell_type": "code",
      "source": [
        "if torch.cuda.is_available(): device = \"cuda\"\n",
        "else: device = \"cpu\"\n",
        "print(device)"
      ],
      "metadata": {
        "colab": {
          "base_uri": "https://localhost:8080/"
        },
        "id": "nXSR2Ruq3nCF",
        "outputId": "0e8a20f1-a75d-4a34-fee0-e8fcc6db2c14"
      },
      "execution_count": null,
      "outputs": [
        {
          "output_type": "stream",
          "name": "stdout",
          "text": [
            "cuda\n"
          ]
        }
      ]
    },
    {
      "cell_type": "code",
      "source": [
        "tens_a= torch.tensor([[12,10,11,9],[13,15,14,16]],device=device)\n",
        "tens_b= torch.tensor([[1,2,3,4],[5,6,7,8]],device=device)\n",
        "multi_tens=tens_a*tens_b\n",
        "print(multi_tens)\n"
      ],
      "metadata": {
        "colab": {
          "base_uri": "https://localhost:8080/"
        },
        "id": "Mp_OFIT_3-J8",
        "outputId": "5179f2bb-7e73-4f09-ca01-5d7b29f4b220"
      },
      "execution_count": null,
      "outputs": [
        {
          "output_type": "stream",
          "name": "stdout",
          "text": [
            "tensor([[ 12,  20,  33,  36],\n",
            "        [ 65,  90,  98, 128]], device='cuda:0')\n"
          ]
        }
      ]
    },
    {
      "cell_type": "code",
      "source": [
        "import numpy as np\n",
        "tensor_from_array=torch.tensor(np.array([11,12,13,14,15]))\n",
        "print(\"Tensor from array:\", tensor_from_array)"
      ],
      "metadata": {
        "colab": {
          "base_uri": "https://localhost:8080/"
        },
        "id": "2XGJC5z54d0t",
        "outputId": "ab29da70-6d03-4ed5-8ddb-d81b8ba31e3e"
      },
      "execution_count": null,
      "outputs": [
        {
          "output_type": "stream",
          "name": "stdout",
          "text": [
            "Tensor from array: tensor([11, 12, 13, 14, 15])\n"
          ]
        }
      ]
    },
    {
      "cell_type": "code",
      "source": [
        "tensor_rand_int=torch.randint(1,4,(4,5))\n",
        "print(tensor_rand_int)\n"
      ],
      "metadata": {
        "colab": {
          "base_uri": "https://localhost:8080/"
        },
        "id": "mmP2Si9a6DTH",
        "outputId": "84f97460-6854-401a-b6d0-73ec15132fbb"
      },
      "execution_count": null,
      "outputs": [
        {
          "output_type": "stream",
          "name": "stdout",
          "text": [
            "tensor([[3, 2, 3, 2, 2],\n",
            "        [1, 2, 3, 1, 3],\n",
            "        [1, 1, 3, 1, 3],\n",
            "        [3, 2, 3, 2, 1]])\n"
          ]
        }
      ]
    },
    {
      "cell_type": "code",
      "source": [
        "tensor_one=torch.ones_like(tensor_rand_int)\n",
        "print(tensor_one)"
      ],
      "metadata": {
        "colab": {
          "base_uri": "https://localhost:8080/"
        },
        "id": "cdE7bqnr7bWz",
        "outputId": "565c708a-3d80-48bb-cd6a-ac8f55b85ec8"
      },
      "execution_count": null,
      "outputs": [
        {
          "output_type": "stream",
          "name": "stdout",
          "text": [
            "tensor([[1, 1, 1, 1, 1],\n",
            "        [1, 1, 1, 1, 1],\n",
            "        [1, 1, 1, 1, 1],\n",
            "        [1, 1, 1, 1, 1]])\n"
          ]
        }
      ]
    },
    {
      "cell_type": "code",
      "source": [
        "second_tensor= torch.tensor([[1,2,3,4],[5,6,7,8],[10,12,13,14]])\n",
        "second_tensor.dtype"
      ],
      "metadata": {
        "colab": {
          "base_uri": "https://localhost:8080/"
        },
        "id": "ivEBPc8i8JSg",
        "outputId": "99ec21d7-71e8-4510-b18e-27c43085a4c2"
      },
      "execution_count": null,
      "outputs": [
        {
          "output_type": "execute_result",
          "data": {
            "text/plain": [
              "torch.int64"
            ]
          },
          "metadata": {},
          "execution_count": 11
        }
      ]
    },
    {
      "cell_type": "code",
      "source": [
        "second_tensor.shape"
      ],
      "metadata": {
        "colab": {
          "base_uri": "https://localhost:8080/"
        },
        "id": "fZto7H889KzT",
        "outputId": "5ab76aea-9722-42ea-9916-6c6e08687046"
      },
      "execution_count": null,
      "outputs": [
        {
          "output_type": "execute_result",
          "data": {
            "text/plain": [
              "torch.Size([3, 4])"
            ]
          },
          "metadata": {},
          "execution_count": 12
        }
      ]
    },
    {
      "cell_type": "code",
      "source": [
        "second_tensor.ndim"
      ],
      "metadata": {
        "colab": {
          "base_uri": "https://localhost:8080/"
        },
        "id": "ZDGyYZut9RTr",
        "outputId": "25d7ceca-d4ca-4629-c134-4c085b7440f1"
      },
      "execution_count": null,
      "outputs": [
        {
          "output_type": "execute_result",
          "data": {
            "text/plain": [
              "2"
            ]
          },
          "metadata": {},
          "execution_count": 13
        }
      ]
    },
    {
      "cell_type": "code",
      "source": [
        "int_tensor=torch.tensor([1,2,3,4,5],dtype=torch.int16)\n",
        "int_tensor.dtype\n"
      ],
      "metadata": {
        "colab": {
          "base_uri": "https://localhost:8080/"
        },
        "id": "I97x3SqR9Zpj",
        "outputId": "df7257c2-3886-4a0b-ea0b-a80e15ff55d4"
      },
      "execution_count": null,
      "outputs": [
        {
          "output_type": "execute_result",
          "data": {
            "text/plain": [
              "torch.int16"
            ]
          },
          "metadata": {},
          "execution_count": 14
        }
      ]
    },
    {
      "cell_type": "code",
      "source": [
        "int_tensor=int_tensor.float()\n",
        "int_tensor.dtype"
      ],
      "metadata": {
        "colab": {
          "base_uri": "https://localhost:8080/"
        },
        "id": "bxxdg6jD-muJ",
        "outputId": "7bcb6eb8-84f6-441b-faf2-924967eabdca"
      },
      "execution_count": null,
      "outputs": [
        {
          "output_type": "execute_result",
          "data": {
            "text/plain": [
              "torch.float32"
            ]
          },
          "metadata": {},
          "execution_count": 15
        }
      ]
    },
    {
      "cell_type": "code",
      "source": [
        "last_tensor= second_tensor.to(dtype=torch.int8)"
      ],
      "metadata": {
        "id": "Cm11BNVw_Nwf"
      },
      "execution_count": null,
      "outputs": []
    },
    {
      "cell_type": "code",
      "source": [
        "last_tensor.dtype\n"
      ],
      "metadata": {
        "colab": {
          "base_uri": "https://localhost:8080/"
        },
        "id": "si0j1E2J_1oB",
        "outputId": "53c64b52-646d-4191-d286-f9b1eb024068"
      },
      "execution_count": null,
      "outputs": [
        {
          "output_type": "execute_result",
          "data": {
            "text/plain": [
              "torch.int8"
            ]
          },
          "metadata": {},
          "execution_count": 17
        }
      ]
    },
    {
      "cell_type": "code",
      "source": [
        "torch.manual_seed(111)\n",
        "torch.rand(3,3)"
      ],
      "metadata": {
        "colab": {
          "base_uri": "https://localhost:8080/"
        },
        "id": "D_TVJHEe_6kS",
        "outputId": "98b065f8-f965-46dc-9b5d-d4584f88428f"
      },
      "execution_count": null,
      "outputs": [
        {
          "output_type": "execute_result",
          "data": {
            "text/plain": [
              "tensor([[0.7156, 0.9140, 0.2819],\n",
              "        [0.2581, 0.6311, 0.6001],\n",
              "        [0.9312, 0.2153, 0.6033]])"
            ]
          },
          "metadata": {},
          "execution_count": 18
        }
      ]
    },
    {
      "cell_type": "code",
      "source": [
        "x=torch.zeros(2,5)"
      ],
      "metadata": {
        "id": "xUL3nIwKAKhs"
      },
      "execution_count": null,
      "outputs": []
    },
    {
      "cell_type": "code",
      "source": [
        "torch.ones_like(x)"
      ],
      "metadata": {
        "colab": {
          "base_uri": "https://localhost:8080/"
        },
        "id": "BNhhBrq8BNTa",
        "outputId": "7cc07a07-e7a5-4903-d4c4-ea8ed346b2e7"
      },
      "execution_count": null,
      "outputs": [
        {
          "output_type": "execute_result",
          "data": {
            "text/plain": [
              "tensor([[1., 1., 1., 1., 1.],\n",
              "        [1., 1., 1., 1., 1.]])"
            ]
          },
          "metadata": {},
          "execution_count": 20
        }
      ]
    },
    {
      "cell_type": "code",
      "source": [
        "torch.full_like(x,2)"
      ],
      "metadata": {
        "colab": {
          "base_uri": "https://localhost:8080/"
        },
        "id": "3sNogFvRBajN",
        "outputId": "1c072fbf-a457-4bef-e50f-89ed563b2e0c"
      },
      "execution_count": null,
      "outputs": [
        {
          "output_type": "execute_result",
          "data": {
            "text/plain": [
              "tensor([[2., 2., 2., 2., 2.],\n",
              "        [2., 2., 2., 2., 2.]])"
            ]
          },
          "metadata": {},
          "execution_count": 21
        }
      ]
    },
    {
      "cell_type": "code",
      "source": [
        "one_dim_tensor=torch.tensor([1,2,3,4,5,6,7,8])\n",
        "print(one_dim_tensor[2])\n",
        "print(one_dim_tensor[2].item())"
      ],
      "metadata": {
        "id": "7ZpdBVfKBlSW",
        "colab": {
          "base_uri": "https://localhost:8080/"
        },
        "outputId": "1ff8a17e-e95b-4c1f-f79c-c32a94f308db"
      },
      "execution_count": null,
      "outputs": [
        {
          "output_type": "stream",
          "name": "stdout",
          "text": [
            "tensor(3)\n",
            "3\n"
          ]
        }
      ]
    },
    {
      "cell_type": "code",
      "source": [
        "one_dim_tensor[1:4:]"
      ],
      "metadata": {
        "colab": {
          "base_uri": "https://localhost:8080/"
        },
        "id": "HtoZsr_Q3YaG",
        "outputId": "8a46058e-259f-43de-d8c1-89ca7a2f3852"
      },
      "execution_count": null,
      "outputs": [
        {
          "output_type": "execute_result",
          "data": {
            "text/plain": [
              "tensor([2, 3, 4])"
            ]
          },
          "metadata": {},
          "execution_count": 25
        }
      ]
    },
    {
      "cell_type": "code",
      "source": [
        "#@title Basic Math Functions\n",
        "a=torch.tensor([10,2,8,6,4])\n",
        "b=torch.tensor([1,2,4,3,1])\n",
        "print('Adding: ',a.add(b))\n",
        "print('Multiply: ',a.mul(b))\n",
        "print('Dividing: ',a.div(b))"
      ],
      "metadata": {
        "colab": {
          "base_uri": "https://localhost:8080/"
        },
        "id": "ZbjYOXO_5tFj",
        "outputId": "296a6fb8-9481-4273-d9ec-3f689e4efac4"
      },
      "execution_count": null,
      "outputs": [
        {
          "output_type": "stream",
          "name": "stdout",
          "text": [
            "Adding:  tensor([11,  4, 12,  9,  5])\n",
            "Multiply:  tensor([10,  4, 32, 18,  4])\n",
            "Dividing:  tensor([10.,  1.,  2.,  2.,  4.])\n"
          ]
        }
      ]
    },
    {
      "cell_type": "code",
      "source": [
        "#@title Reduction Functions\n",
        "\n",
        "c= torch.tensor([[20., 14., 11.,8.],[3., 19., 14., 6.]])\n",
        "print('Mean of tensor c:', torch.mean(c))\n",
        "print('Median of tensor c:',torch.median(c))\n",
        "print('Mode of tensor c: ',torch.mode(c))\n",
        "print('Standard deviation of the tensor c:',torch.std(c))"
      ],
      "metadata": {
        "colab": {
          "base_uri": "https://localhost:8080/"
        },
        "id": "GxA683cW693w",
        "outputId": "994e65d6-f949-4600-d8c3-aa7f5e7ecc11"
      },
      "execution_count": null,
      "outputs": [
        {
          "output_type": "stream",
          "name": "stdout",
          "text": [
            "Mean of tensor c: tensor(11.8750)\n",
            "Median of tensor c: tensor(11.)\n",
            "Mode of tensor c:  torch.return_types.mode(\n",
            "values=tensor([8., 3.]),\n",
            "indices=tensor([3, 0]))\n",
            "Standard deviation of the tensor c: tensor(6.0341)\n"
          ]
        }
      ]
    },
    {
      "cell_type": "code",
      "source": [
        "#@title Linear Algebra\n",
        "first_tensor =torch.tensor([1,2,3])\n",
        "second_tensor= torch.tensor([4,5,6])\n",
        "\n",
        "dot_product = torch.matmul(first_tensor, second_tensor)"
      ],
      "metadata": {
        "id": "4uXxSPCC8Nts"
      },
      "execution_count": null,
      "outputs": []
    },
    {
      "cell_type": "code",
      "source": [
        "dot_product\n"
      ],
      "metadata": {
        "colab": {
          "base_uri": "https://localhost:8080/"
        },
        "id": "k_36E_nf87rM",
        "outputId": "83874057-1ae0-494c-bbef-2529e0ab610c"
      },
      "execution_count": null,
      "outputs": [
        {
          "output_type": "execute_result",
          "data": {
            "text/plain": [
              "tensor(32)"
            ]
          },
          "metadata": {},
          "execution_count": 30
        }
      ]
    },
    {
      "cell_type": "code",
      "source": [
        "#@title Compute a matrix product of 5 2d tensors\n",
        "first_ten= torch.randn(2,3)\n",
        "second_ten=torch.randn(3,4)\n",
        "third_ten=torch.randn(4,5)\n",
        "fourth_ten=torch.randn(5,6)\n",
        "fifth_ten=torch.randn(6,7)\n",
        "torch.linalg.multi_dot((first_ten,second_ten,third_ten,fourth_ten,fifth_ten))"
      ],
      "metadata": {
        "colab": {
          "base_uri": "https://localhost:8080/"
        },
        "id": "px8QmBVm8_DU",
        "outputId": "3f923626-c8fb-4d68-b6c0-8a9ebd401456"
      },
      "execution_count": null,
      "outputs": [
        {
          "output_type": "execute_result",
          "data": {
            "text/plain": [
              "tensor([[ -8.3860,   9.3331, -11.7380,   9.5455,  11.5823,   1.6718,  -3.7823],\n",
              "        [-19.2313,  26.0405, -21.8752,  22.2212,  21.5394,   0.1353,  -4.7819]])"
            ]
          },
          "metadata": {},
          "execution_count": 31
        }
      ]
    },
    {
      "cell_type": "code",
      "source": [
        "#@title Computing eigenvalues and eigevectors\n",
        "#3x3 square matrix\n",
        "import torch\n",
        "A= torch.randn(4,4)\n",
        "\n",
        "#print the above created matrix\n",
        "print(\"Matrix:\",A)\n",
        "\n",
        "#compute eigen value and vector of the matrix\n",
        "eigenvalues, eigenvectors= torch.linalg.eig(A)\n",
        "print(\"eigenvalues: \",eigenvalues)\n",
        "print(\"eigenvectors: \",eigenvectors)\n",
        "\n"
      ],
      "metadata": {
        "colab": {
          "base_uri": "https://localhost:8080/"
        },
        "id": "UxUCSIWx-LqN",
        "outputId": "adc5e23b-9d92-406f-8d9b-a23a148b9fd5"
      },
      "execution_count": null,
      "outputs": [
        {
          "output_type": "stream",
          "name": "stdout",
          "text": [
            "Matrix: tensor([[-0.1064, -1.4430,  0.0689, -1.3725],\n",
            "        [-0.6015,  0.5824, -0.1424, -0.7144],\n",
            "        [ 1.2040,  0.0792, -0.0520,  0.7494],\n",
            "        [-0.4512,  2.5931,  1.1443, -2.0381]])\n",
            "eigenvalues:  tensor([-2.3534+0.0000j,  1.3043+0.0000j, -0.2825+0.9391j, -0.2825-0.9391j])\n",
            "eigenvectors:  tensor([[-0.5508+0.0000j, -0.7239+0.0000j, -0.3664+0.4611j, -0.3664-0.4611j],\n",
            "        [-0.2404+0.0000j,  0.4286+0.0000j, -0.0940+0.2540j, -0.0940-0.2540j],\n",
            "        [ 0.4996+0.0000j, -0.4685+0.0000j,  0.6467+0.0000j,  0.6467-0.0000j],\n",
            "        [-0.6239+0.0000j,  0.2698+0.0000j,  0.3997+0.0428j,  0.3997-0.0428j]])\n"
          ]
        }
      ]
    },
    {
      "cell_type": "code",
      "source": [
        "#@title Automatic Differentiation\n",
        "\n",
        "x=torch.autograd.Variable(torch.Tensor([2]),requires_grad=True)\n",
        "y=torch.autograd.Variable(torch.Tensor([1]),requires_grad=True)\n",
        "z=torch.autograd.Variable(torch.Tensor([5]),requires_grad=True)"
      ],
      "metadata": {
        "id": "eU5VALxzb7xY"
      },
      "execution_count": null,
      "outputs": []
    },
    {
      "cell_type": "code",
      "source": [
        "a=x-y\n",
        "f=z*a\n",
        "print(\"Final value for Function f= \",f)\n",
        "f.backward()\n",
        "#Print the gradient value\n",
        "print(\"Gradient value for x:\",x.grad)\n",
        "print(\"Gradient value for x:\",x.grad)\n",
        "print(\"Gradient value for x:\",x.grad)\n"
      ],
      "metadata": {
        "colab": {
          "base_uri": "https://localhost:8080/"
        },
        "id": "D9-jGhj_cqrR",
        "outputId": "d50023f9-3745-499f-b585-5ad2e6ec034f"
      },
      "execution_count": null,
      "outputs": [
        {
          "output_type": "stream",
          "name": "stdout",
          "text": [
            "Final value for Function f=  tensor([5.], grad_fn=<MulBackward0>)\n",
            "Gradient value for x: tensor([5.])\n",
            "Gradient value for x: tensor([5.])\n",
            "Gradient value for x: tensor([5.])\n"
          ]
        }
      ]
    },
    {
      "cell_type": "code",
      "source": [
        "#@title Deep Learning Model\n",
        "import torch\n",
        "\n",
        "from torchvision.datasets import CIFAR10\n",
        "from keras.datasets import cifar10\n",
        "from matplotlib import pyplot\n",
        "\n",
        "train_data = CIFAR10(root=\"./train\",train=True,download=True)\n",
        "\n",
        "\n"
      ],
      "metadata": {
        "id": "QZUu1rN3d7DC",
        "colab": {
          "base_uri": "https://localhost:8080/"
        },
        "outputId": "a005bef4-6d72-4514-efe1-af90bd8c4a21"
      },
      "execution_count": null,
      "outputs": [
        {
          "output_type": "stream",
          "name": "stdout",
          "text": [
            "Files already downloaded and verified\n"
          ]
        }
      ]
    },
    {
      "cell_type": "code",
      "source": [
        "#Data loading\n",
        "#dataset: Dataset stores the samples and their corresponding labels\n",
        "#dataloader: Dataloader feeds the data from the dataset into network\n",
        "(trainX, trainy),(testX,testy)=cifar10.load_data()\n",
        "\n",
        "#summarize loaded dataset\n",
        "print('Train: X=%s,y=%s'%(trainX.shape,trainy.shape))\n",
        "print('Test: X=%s,y=%s'%(testX.shape,testy.shape))\n"
      ],
      "metadata": {
        "colab": {
          "base_uri": "https://localhost:8080/"
        },
        "id": "5V-Ts3RTokdq",
        "outputId": "d78cc158-24c4-49be-ffe9-382fd05832b7"
      },
      "execution_count": null,
      "outputs": [
        {
          "output_type": "stream",
          "name": "stdout",
          "text": [
            "Train: X=(50000, 32, 32, 3),y=(50000, 1)\n",
            "Test: X=(10000, 32, 32, 3),y=(10000, 1)\n"
          ]
        }
      ]
    },
    {
      "cell_type": "code",
      "source": [
        "#plot first 16 images\n",
        "for i in range(16):\n",
        "  #define subplot\n",
        "  pyplot.subplot(4,4,i+1)\n",
        "  #plot raw pixel data\n",
        "  pyplot.imshow(trainX[i])\n",
        "  #show fig\n",
        "  pyplot.show()"
      ],
      "metadata": {
        "colab": {
          "base_uri": "https://localhost:8080/",
          "height": 1000
        },
        "id": "VTMvlCtktU2_",
        "outputId": "0e2f2415-a98c-47a0-b264-51cff5871c2b"
      },
      "execution_count": null,
      "outputs": [
        {
          "output_type": "display_data",
          "data": {
            "text/plain": [
              "<Figure size 640x480 with 1 Axes>"
            ],
            "image/png": "[encoded data removed]"
          },
          "metadata": {}
        },
        {
          "output_type": "display_data",
          "data": {
            "text/plain": [
              "<Figure size 640x480 with 1 Axes>"
            ],
            "image/png": "[encoded data removed]"
          },
          "metadata": {}
        },
        {
          "output_type": "display_data",
          "data": {
            "text/plain": [
              "<Figure size 640x480 with 1 Axes>"
            ],
            "image/png": "[encoded data removed]"
          },
          "metadata": {}
        },
        {
          "output_type": "display_data",
          "data": {
            "text/plain": [
              "<Figure size 640x480 with 1 Axes>"
            ],
            "image/png": "[encoded data removed]"
          },
          "metadata": {}
        },
        {
          "output_type": "display_data",
          "data": {
            "text/plain": [
              "<Figure size 640x480 with 1 Axes>"
            ],
            "image/png": "[encoded data removed]"
          },
          "metadata": {}
        },
        {
          "output_type": "display_data",
          "data": {
            "text/plain": [
              "<Figure size 640x480 with 1 Axes>"
            ],
            "image/png": "[encoded data removed]"
          },
          "metadata": {}
        },
        {
          "output_type": "display_data",
          "data": {
            "text/plain": [
              "<Figure size 640x480 with 1 Axes>"
            ],
            "image/png": "[encoded data removed]"
          },
          "metadata": {}
        },
        {
          "output_type": "display_data",
          "data": {
            "text/plain": [
              "<Figure size 640x480 with 1 Axes>"
            ],
            "image/png": "[encoded data removed]"
          },
          "metadata": {}
        },
        {
          "output_type": "display_data",
          "data": {
            "text/plain": [
              "<Figure size 640x480 with 1 Axes>"
            ],
            "image/png": "[encoded data removed]"
          },
          "metadata": {}
        },
        {
          "output_type": "display_data",
          "data": {
            "text/plain": [
              "<Figure size 640x480 with 1 Axes>"
            ],
            "image/png": "[encoded data removed]"
          },
          "metadata": {}
        },
        {
          "output_type": "display_data",
          "data": {
            "text/plain": [
              "<Figure size 640x480 with 1 Axes>"
            ],
            "image/png": "[encoded data removed]"
          },
          "metadata": {}
        },
        {
          "output_type": "display_data",
          "data": {
            "text/plain": [
              "<Figure size 640x480 with 1 Axes>"
            ],
            "image/png": "[encoded data removed]"
          },
          "metadata": {}
        },
        {
          "output_type": "display_data",
          "data": {
            "text/plain": [
              "<Figure size 640x480 with 1 Axes>"
            ],
            "image/png": "[encoded data removed]"
          },
          "metadata": {}
        },
        {
          "output_type": "display_data",
          "data": {
            "text/plain": [
              "<Figure size 640x480 with 1 Axes>"
            ],
            "image/png": "[encoded data removed]"
          },
          "metadata": {}
        },
        {
          "output_type": "display_data",
          "data": {
            "text/plain": [
              "<Figure size 640x480 with 1 Axes>"
            ],
            "image/png": "[encoded data removed]"
          },
          "metadata": {}
        },
        {
          "output_type": "display_data",
          "data": {
            "text/plain": [
              "<Figure size 640x480 with 1 Axes>"
            ],
            "image/png": "[encoded data removed]"
          },
          "metadata": {}
        }
      ]
    },
    {
      "cell_type": "code",
      "source": [
        "#@title Examine the training dataset\n",
        "print(train_data.data.shape)\n",
        "print(train_data.class_to_idx)"
      ],
      "metadata": {
        "colab": {
          "base_uri": "https://localhost:8080/"
        },
        "id": "3co-IhUUt26S",
        "outputId": "ea48b903-7713-4954-8284-6175d54a8358"
      },
      "execution_count": null,
      "outputs": [
        {
          "output_type": "stream",
          "name": "stdout",
          "text": [
            "(50000, 32, 32, 3)\n",
            "{'airplane': 0, 'automobile': 1, 'bird': 2, 'cat': 3, 'deer': 4, 'dog': 5, 'frog': 6, 'horse': 7, 'ship': 8, 'truck': 9}\n"
          ]
        }
      ]
    },
    {
      "cell_type": "code",
      "source": [
        "#@title Check class labels\n",
        "for i in range(16):\n",
        "  data,label = train_data[i]\n",
        "  print(\"picture: \"+str(i+1)+\", photograph: \",train_data.classes[label])"
      ],
      "metadata": {
        "colab": {
          "base_uri": "https://localhost:8080/"
        },
        "id": "EC9JPAhgvF2L",
        "outputId": "6261befd-f782-4623-fa35-69216186c8c0"
      },
      "execution_count": null,
      "outputs": [
        {
          "output_type": "stream",
          "name": "stdout",
          "text": [
            "picture: 1, photograph:  frog\n",
            "picture: 2, photograph:  truck\n",
            "picture: 3, photograph:  truck\n",
            "picture: 4, photograph:  deer\n",
            "picture: 5, photograph:  automobile\n",
            "picture: 6, photograph:  automobile\n",
            "picture: 7, photograph:  bird\n",
            "picture: 8, photograph:  horse\n",
            "picture: 9, photograph:  ship\n",
            "picture: 10, photograph:  cat\n",
            "picture: 11, photograph:  deer\n",
            "picture: 12, photograph:  horse\n",
            "picture: 13, photograph:  horse\n",
            "picture: 14, photograph:  bird\n",
            "picture: 15, photograph:  truck\n",
            "picture: 16, photograph:  truck\n"
          ]
        }
      ]
    },
    {
      "cell_type": "code",
      "source": [
        "#@title Import and transform for training data set\n",
        "from torchvision import transforms\n",
        "from torchvision.datasets import CIFAR10\n",
        "train_data_path = \"./train/\"\n",
        "train_transforms = transforms.Compose([\n",
        "  transforms.Resize(64),\n",
        "  transforms.ToTensor(),\n",
        "  transforms.Normalize(\n",
        "      mean=(0.4914, 0.4822, 0.4465),\n",
        "      std=(0.24703223, 0.24348513, 0.26158784))])\n",
        "\n",
        "training_data = CIFAR10(train_data_path,\n",
        "                     train=True,\n",
        "                     download=True,\n",
        "                     transform=train_transforms)"
      ],
      "metadata": {
        "colab": {
          "base_uri": "https://localhost:8080/"
        },
        "id": "P-9WFfJovNI-",
        "outputId": "eb13d663-2d26-4217-8243-027e2cd449ad"
      },
      "execution_count": null,
      "outputs": [
        {
          "output_type": "stream",
          "name": "stdout",
          "text": [
            "Files already downloaded and verified\n"
          ]
        }
      ]
    },
    {
      "cell_type": "code",
      "source": [
        "#@title Calculate normalizer value\n",
        "import os\n",
        "import numpy as np\n",
        "\n",
        "from torchvision import datasets, transforms\n",
        "\n",
        "train_transform = transforms.Compose([transforms.ToTensor()])\n",
        "\n",
        "# cifar10\n",
        "train_set = datasets.CIFAR10(root='../data/', train=True, download=True, transform=train_transform)\n",
        "print(train_set.data.shape)\n",
        "print(train_set.data.mean(axis=(0,1,2))/255)\n",
        "print(train_set.data.std(axis=(0,1,2))/255)"
      ],
      "metadata": {
        "colab": {
          "base_uri": "https://localhost:8080/"
        },
        "id": "m1kE1gHawTsY",
        "outputId": "4b784d8d-9e1e-4b6f-ced9-64c63c4da372"
      },
      "execution_count": null,
      "outputs": [
        {
          "output_type": "stream",
          "name": "stdout",
          "text": [
            "Files already downloaded and verified\n",
            "(50000, 32, 32, 3)\n",
            "[0.49139968 0.48215841 0.44653091]\n",
            "[0.24703223 0.24348513 0.26158784]\n"
          ]
        }
      ]
    },
    {
      "cell_type": "code",
      "source": [
        "#@title Training data of first image\n",
        "print(train_data[0])"
      ],
      "metadata": {
        "colab": {
          "base_uri": "https://localhost:8080/"
        },
        "id": "qvIe6FLvxMQz",
        "outputId": "7dcfc51b-da5a-4696-834f-2fd1d70a8cd6"
      },
      "execution_count": null,
      "outputs": [
        {
          "output_type": "stream",
          "name": "stdout",
          "text": [
            "(<PIL.Image.Image image mode=RGB size=32x32 at 0x7EE6775C83D0>, 6)\n"
          ]
        }
      ]
    },
    {
      "cell_type": "code",
      "source": [],
      "metadata": {
        "id": "2ua-gN7dyXcd"
      },
      "execution_count": null,
      "outputs": []
    },
    {
      "cell_type": "code",
      "source": [
        "#@title defining transform for test data set\n",
        "\n",
        "test_data_path = \"./test/\"\n",
        "test_transforms = transforms.Compose([\n",
        "  transforms.Resize(64),\n",
        "  transforms.ToTensor(),\n",
        "  transforms.Normalize(\n",
        "      mean=(0.4914, 0.4822, 0.4465),\n",
        "      std=(0.24703223, 0.24348513, 0.26158784))])\n",
        "\n",
        "test_data = CIFAR10(test_data_path,\n",
        "                     train=True,\n",
        "                     download=True,\n",
        "                     transform=train_transforms)\n",
        "print(test_data)"
      ],
      "metadata": {
        "colab": {
          "base_uri": "https://localhost:8080/"
        },
        "outputId": "d177109f-2c6a-4793-f961-16ba373a1d9e",
        "id": "s2Czfid1ynd_"
      },
      "execution_count": null,
      "outputs": [
        {
          "output_type": "stream",
          "name": "stdout",
          "text": [
            "Downloading https://www.cs.toronto.edu/~kriz/cifar-10-python.tar.gz to ./test/cifar-10-python.tar.gz\n"
          ]
        },
        {
          "output_type": "stream",
          "name": "stderr",
          "text": [
            "100%|██████████| 170498071/170498071 [00:04<00:00, 37369155.12it/s]\n"
          ]
        },
        {
          "output_type": "stream",
          "name": "stdout",
          "text": [
            "Extracting ./test/cifar-10-python.tar.gz to ./test/\n",
            "Dataset CIFAR10\n",
            "    Number of datapoints: 50000\n",
            "    Root location: ./test/\n",
            "    Split: Train\n",
            "    StandardTransform\n",
            "Transform: Compose(\n",
            "               Resize(size=64, interpolation=bilinear, max_size=None, antialias=True)\n",
            "               ToTensor()\n",
            "               Normalize(mean=(0.4914, 0.4822, 0.4465), std=(0.24703223, 0.24348513, 0.26158784))\n",
            "           )\n"
          ]
        }
      ]
    },
    {
      "cell_type": "code",
      "source": [],
      "metadata": {
        "id": "GGd6YF0oy8Id"
      },
      "execution_count": null,
      "outputs": []
    },
    {
      "cell_type": "code",
      "source": [
        "#@title Data Batching\n",
        "from torchvision import transforms\n",
        "from torchvision.datasets import CIFAR10\n",
        "from torch.utils.data import DataLoader\n",
        "train_data_path = \"./train/\"\n",
        "test_data_path = \"./test/\"\n",
        "train_transforms = transforms.Compose([\n",
        "  transforms.Resize(64),\n",
        "  transforms.ToTensor(),\n",
        "  transforms.Normalize(\n",
        "      mean=(0.4914, 0.4822, 0.4465),\n",
        "      std=(0.24703223, 0.24348513, 0.26158784))])\n",
        "\n",
        "training_data = CIFAR10(train_data_path,\n",
        "                     train=True,\n",
        "                     download=True,\n",
        "                     transform=train_transforms)\n",
        "\n",
        "test_transforms = transforms.Compose([\n",
        "  transforms.ToTensor(),\n",
        "  transforms.Normalize(\n",
        "      (0.4914, 0.4822, 0.4465),\n",
        "      (0.24703223, 0.24348513, 0.26158784))])\n",
        "\n",
        "test_data = CIFAR10(test_data_path,\n",
        "                     train=False,\n",
        "                     download=True,\n",
        "                     transform=train_transforms)\n",
        "\n",
        "batch_size=16\n",
        "training_data_loader = DataLoader(training_data, batch_size=batch_size, shuffle=True)\n",
        "test_data_loader  = DataLoader(test_data, batch_size=batch_size, shuffle=False)"
      ],
      "metadata": {
        "colab": {
          "base_uri": "https://localhost:8080/"
        },
        "outputId": "4ff9dd9c-5264-4335-c4a4-03505248d976",
        "id": "vpQ2vq0TzC7o"
      },
      "execution_count": null,
      "outputs": [
        {
          "output_type": "stream",
          "name": "stdout",
          "text": [
            "Files already downloaded and verified\n",
            "Files already downloaded and verified\n"
          ]
        }
      ]
    },
    {
      "cell_type": "code",
      "source": [
        "import torch\n",
        "from torchvision import transforms\n",
        "from torchvision.datasets import CIFAR10\n",
        "from torch.utils.data import DataLoader\n",
        "from torchvision import models\n",
        "from torch import optim\n",
        "import torch.nn as nn\n",
        "import torch.optim as optim\n",
        "import torch.nn.functional as F"
      ],
      "metadata": {
        "id": "lTUaxMbr52Rd"
      },
      "execution_count": null,
      "outputs": []
    },
    {
      "cell_type": "code",
      "source": [
        "#@title Define neural network, __init__ and forward functions\n",
        "class Net(nn.Module):\n",
        "    def __init__(self):\n",
        "        super(Net, self).__init__()\n",
        "        self.conv1 = nn.Conv2d(3, 6, 5)#3 input channel, 6 output channel, uses 5x5 kernel\n",
        "        self.pool = nn.MaxPool2d(2, 2)# 2x2 window and a stride of two,used to reduce spatial dimensions of the output\n",
        "        self.conv2 = nn.Conv2d(6, 16, 5)\n",
        "        self.fc1 = nn.Linear(16 * 5 * 5, 120)# 1st fully connected layer, input size 16 by 5x5,derived by output dimension of last conv layer\n",
        "        self.fc2 = nn.Linear(120, 84)\n",
        "        self.fc3 = nn.Linear(84, 10)# output 10 channel corresponds to 10 classes of dataset\n",
        "\n",
        "    def forward(self, x):\n",
        "        x = self.pool(F.relu(self.conv1(x)))\n",
        "        x = self.pool(F.relu(self.conv2(x)))\n",
        "        x = x.view(-1, 16 * 5 * 5)#reshape the tensor before feeding it to fc layers\n",
        "        x = F.relu(self.fc1(x))# All neg value set to 0, unchanging positives\n",
        "        x = F.relu(self.fc2(x))\n",
        "        x = self.fc3(x)\n",
        "        return x"
      ],
      "metadata": {
        "id": "0CeX9y6M7PQR"
      },
      "execution_count": null,
      "outputs": []
    },
    {
      "cell_type": "code",
      "source": [
        "#@title Instantiate the Model\n",
        "net = Net()\n",
        "\n",
        "# define the Loss Function and Optimizer\n",
        "criterion = nn.CrossEntropyLoss()\n",
        "optimizer = optim.SGD(net.parameters(), lr=0.001, momentum=0.9)"
      ],
      "metadata": {
        "id": "spL-MWLR9U9Z"
      },
      "execution_count": null,
      "outputs": []
    },
    {
      "cell_type": "code",
      "source": [
        "#@title Load and transform the data\n",
        "transform = transforms.Compose(\n",
        "    [transforms.ToTensor(),\n",
        "     transforms.Normalize((0.4914, 0.4822, 0.4465), (0.247, 0.243, 0.261))])\n",
        "\n",
        "trainset = CIFAR10(root='./data', train=True,\n",
        "                                        download=True, transform=transform)\n",
        "trainloader = torch.utils.data.DataLoader(trainset, batch_size=4,\n",
        "                                          shuffle=True, num_workers=2)\n",
        "\n",
        "testset = CIFAR10(root='./data', train=False,\n",
        "                                       download=True, transform=transform)\n",
        "testloader = torch.utils.data.DataLoader(testset, batch_size=4,\n",
        "                                         shuffle=False, num_workers=2)"
      ],
      "metadata": {
        "colab": {
          "base_uri": "https://localhost:8080/"
        },
        "id": "FRJ_OFE_9bsV",
        "outputId": "0cbf64c4-e3a2-40bf-e8c7-256e7af1aae2"
      },
      "execution_count": null,
      "outputs": [
        {
          "output_type": "stream",
          "name": "stdout",
          "text": [
            "Downloading https://www.cs.toronto.edu/~kriz/cifar-10-python.tar.gz to ./data/cifar-10-python.tar.gz\n"
          ]
        },
        {
          "output_type": "stream",
          "name": "stderr",
          "text": [
            "100%|██████████| 170498071/170498071 [00:03<00:00, 48514021.59it/s]\n"
          ]
        },
        {
          "output_type": "stream",
          "name": "stdout",
          "text": [
            "Extracting ./data/cifar-10-python.tar.gz to ./data\n",
            "Files already downloaded and verified\n"
          ]
        }
      ]
    },
    {
      "cell_type": "code",
      "source": [
        "#@title Train the network\n",
        "for epoch in range(10):  # loop over the dataset multiple times\n",
        "    running_loss = 0.0\n",
        "    for i, data in enumerate(trainloader, 0):\n",
        "        # get the inputs; data is a tuple of [inputs, labels]\n",
        "        inputs, labels = data\n",
        "\n",
        "        # zero the parameter gradients\n",
        "        optimizer.zero_grad()\n",
        "\n",
        "        # forward + backward + optimize\n",
        "        outputs = net(inputs)\n",
        "        loss = criterion(outputs, labels)\n",
        "        loss.backward()\n",
        "        optimizer.step()\n",
        "\n",
        "        # print statistics\n",
        "        running_loss += loss.item()\n",
        "        if i % 2000 == 1999:    # print every 2000 mini-batches\n",
        "            print(f'[{epoch + 1}, {i + 1:5d}] loss: {running_loss / 2000:.3f}')\n",
        "            running_loss = 0.0\n",
        "\n",
        "print('Finished Training')"
      ],
      "metadata": {
        "colab": {
          "base_uri": "https://localhost:8080/"
        },
        "id": "DXe9fxoX9t2h",
        "outputId": "35395287-4e32-4ce5-e9d8-e567df138283"
      },
      "execution_count": null,
      "outputs": [
        {
          "output_type": "stream",
          "name": "stdout",
          "text": [
            "[1,  2000] loss: 1.035\n",
            "[1,  4000] loss: 1.056\n",
            "[1,  6000] loss: 1.080\n",
            "[1,  8000] loss: 1.052\n",
            "[1, 10000] loss: 1.061\n",
            "[1, 12000] loss: 1.069\n",
            "[2,  2000] loss: 0.995\n",
            "[2,  4000] loss: 0.998\n",
            "[2,  6000] loss: 0.986\n",
            "[2,  8000] loss: 1.006\n",
            "[2, 10000] loss: 0.997\n",
            "[2, 12000] loss: 1.034\n",
            "[3,  2000] loss: 0.938\n",
            "[3,  4000] loss: 0.964\n",
            "[3,  6000] loss: 0.942\n",
            "[3,  8000] loss: 0.972\n",
            "[3, 10000] loss: 0.969\n",
            "[3, 12000] loss: 0.990\n",
            "[4,  2000] loss: 0.907\n",
            "[4,  4000] loss: 0.926\n",
            "[4,  6000] loss: 0.936\n",
            "[4,  8000] loss: 0.912\n",
            "[4, 10000] loss: 0.933\n",
            "[4, 12000] loss: 0.946\n",
            "[5,  2000] loss: 0.846\n",
            "[5,  4000] loss: 0.863\n",
            "[5,  6000] loss: 0.898\n",
            "[5,  8000] loss: 0.899\n",
            "[5, 10000] loss: 0.903\n",
            "[5, 12000] loss: 0.948\n",
            "[6,  2000] loss: 0.818\n",
            "[6,  4000] loss: 0.842\n",
            "[6,  6000] loss: 0.873\n",
            "[6,  8000] loss: 0.897\n",
            "[6, 10000] loss: 0.907\n",
            "[6, 12000] loss: 0.899\n",
            "[7,  2000] loss: 0.780\n",
            "[7,  4000] loss: 0.835\n",
            "[7,  6000] loss: 0.855\n",
            "[7,  8000] loss: 0.849\n",
            "[7, 10000] loss: 0.888\n",
            "[7, 12000] loss: 0.884\n",
            "[8,  2000] loss: 0.779\n",
            "[8,  4000] loss: 0.808\n",
            "[8,  6000] loss: 0.847\n",
            "[8,  8000] loss: 0.829\n",
            "[8, 10000] loss: 0.859\n",
            "[8, 12000] loss: 0.850\n",
            "[9,  2000] loss: 0.742\n",
            "[9,  4000] loss: 0.808\n",
            "[9,  6000] loss: 0.820\n",
            "[9,  8000] loss: 0.824\n",
            "[9, 10000] loss: 0.836\n"
          ]
        }
      ]
    },
    {
      "cell_type": "code",
      "source": [
        "#@title Import libraries and dataset\n",
        "import torch\n",
        "from torchvision import transforms\n",
        "from torchvision.datasets import CIFAR10\n",
        "from torch.utils.data import DataLoader\n",
        "from torch.utils.data import random_split\n",
        "from torchvision import models\n",
        "from torch import optim\n",
        "import torch.nn as nn\n",
        "import torch.optim as optim\n",
        "import torch.nn.functional as F"
      ],
      "metadata": {
        "id": "D-XvGOAx90hI"
      },
      "execution_count": null,
      "outputs": []
    },
    {
      "cell_type": "code",
      "source": [
        "#@title Define neural network, __init__ and forward functions\n",
        "\n",
        "class Net(nn.Module):\n",
        "    def __init__(self):\n",
        "        super(Net, self).__init__()\n",
        "        self.conv1 = nn.Conv2d(3, 6, 5)\n",
        "        self.pool = nn.MaxPool2d(2, 2)\n",
        "        self.conv2 = nn.Conv2d(6, 16, 5)\n",
        "        self.fc1 = nn.Linear(16 * 5 * 5, 120)\n",
        "        self.fc2 = nn.Linear(120, 84)\n",
        "        self.fc3 = nn.Linear(84, 10)\n",
        "\n",
        "    def forward(self, x):\n",
        "        x = self.pool(F.relu(self.conv1(x)))\n",
        "        x = self.pool(F.relu(self.conv2(x)))\n",
        "        x = x.view(-1, 16 * 5 * 5)\n",
        "        x = F.relu(self.fc1(x))\n",
        "        x = F.relu(self.fc2(x))\n",
        "        x = self.fc3(x)\n",
        "        return x"
      ],
      "metadata": {
        "id": "LPIcYr4S--FQ"
      },
      "execution_count": null,
      "outputs": []
    },
    {
      "cell_type": "code",
      "source": [
        "#@title Instantiate the model\n",
        "net = Net()"
      ],
      "metadata": {
        "id": "96XQHP_Z_BBo"
      },
      "execution_count": null,
      "outputs": []
    },
    {
      "cell_type": "code",
      "source": [
        "#@title Define the loss function and optimizer\n",
        "criterion = nn.CrossEntropyLoss()\n",
        "optimizer = optim.SGD(net.parameters(), lr=0.001, momentum=0.9)\n",
        "\n",
        "#@title Load and transform the data\n",
        "transform = transforms.Compose(\n",
        "    [transforms.ToTensor(),\n",
        "     transforms.Normalize((0.5, 0.5, 0.5), (0.5, 0.5, 0.5))])\n",
        "train_transforms = transforms.Compose([\n",
        "  transforms.RandomCrop(32, padding=4),\n",
        "  transforms.RandomHorizontalFlip(),\n",
        "  transforms.ToTensor(),\n",
        "  transforms.Normalize(\n",
        "      mean=(0.4914, 0.4822, 0.4465),\n",
        "      std=(0.2023, 0.1994, 0.2010))])\n",
        "\n",
        "train_data = CIFAR10(root=\"./train/\",train=True,\n",
        "                     download=True, transform=train_transforms)\n",
        "\n",
        "\n",
        "train_set, val_set = random_split(train_data,[40000, 10000])\n",
        "\n",
        "trainloader = torch.utils.data.DataLoader(\n",
        "                    train_set,\n",
        "                    batch_size=16,\n",
        "                    shuffle=True)\n",
        "\n",
        "valloader = torch.utils.data.DataLoader(\n",
        "                    val_set,\n",
        "                    batch_size=16,\n",
        "                    shuffle=True)\n",
        "\n",
        "trainloader = torch.utils.data.DataLoader(train_set, batch_size=4,\n",
        "                                          shuffle=True, num_workers=2)\n",
        "\n",
        "testset = CIFAR10(root='./data', train=False,\n",
        "                                       download=True, transform=transform)\n",
        "testloader = torch.utils.data.DataLoader(testset, batch_size=4,\n",
        "                                         shuffle=False, num_workers=2)\n"
      ],
      "metadata": {
        "id": "8VpK_ZAo_ECh"
      },
      "execution_count": null,
      "outputs": []
    },
    {
      "cell_type": "code",
      "source": [
        "#@title Set the model to training mode and evaluation mode for validation\n",
        "for epoch in range(10):\n",
        "    net.train()  # Set the model to training mode\n",
        "    running_loss = 0.0\n",
        "    for i, data in enumerate(trainloader, 0):\n",
        "        inputs, labels = data\n",
        "        optimizer.zero_grad()\n",
        "        outputs = net(inputs)\n",
        "        loss = criterion(outputs, labels)\n",
        "        loss.backward()\n",
        "        optimizer.step()\n",
        "        running_loss += loss.item()\n",
        "\n",
        "    net.eval()  # Set the model to evaluation mode for validation\n",
        "    validation_loss = 0.0\n",
        "    correct = 0\n",
        "    total = 0\n",
        "    with torch.no_grad():\n",
        "        for data in testloader:\n",
        "            images, labels = data\n",
        "            outputs = net(images)\n",
        "            loss = criterion(outputs, labels)\n",
        "            validation_loss += loss.item()\n",
        "            _, predicted = torch.max(outputs.data, 1)\n",
        "            total += labels.size(0)\n",
        "            correct += (predicted == labels).sum().item()\n",
        "\n",
        " print(f'Epoch {epoch + 1}, Training Loss: {running_loss / len(trainloader)}, Validation Loss: {validation_loss / len(valloader)}, Validation Accuracy: {100 * correct / total}%')\n",
        "\n"
      ],
      "metadata": {
        "id": "HkqDsT4o_KkB"
      },
      "execution_count": null,
      "outputs": []
    }
  ]
}