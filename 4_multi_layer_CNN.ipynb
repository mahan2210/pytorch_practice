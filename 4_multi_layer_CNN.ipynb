{
  "nbformat": 4,
  "nbformat_minor": 0,
  "metadata": {
    "colab": {
      "provenance": [],
      "gpuType": "T4",
      "authorship_tag": "ABX9TyM4Bfixo/r7GTZKS+1QhGsZ",
      "include_colab_link": true
    },
    "kernelspec": {
      "name": "python3",
      "display_name": "Python 3"
    },
    "language_info": {
      "name": "python"
    },
    "accelerator": "GPU"
  },
  "cells": [
    {
      "cell_type": "markdown",
      "metadata": {
        "id": "view-in-github",
        "colab_type": "text"
      },
      "source": [
        "<a href=\"https://colab.research.google.com/github/mahan2210/pytorch_practice/blob/cv/4_multi_layer_CNN.ipynb\" target=\"_parent\"><img src=\"https://colab.research.google.com/assets/colab-badge.svg\" alt=\"Open In Colab\"/></a>"
      ]
    },
    {
      "cell_type": "code",
      "execution_count": 3,
      "metadata": {
        "colab": {
          "base_uri": "https://localhost:8080/"
        },
        "id": "tpKDgpC_RzOs",
        "outputId": "9f82c7fc-93de-4609-cac5-39ffd32a3efa"
      },
      "outputs": [
        {
          "output_type": "stream",
          "name": "stdout",
          "text": [
            "--2024-09-04 14:11:07--  https://raw.githubusercontent.com/MicrosoftDocs/pytorchfundamentals/main/computer-vision-pytorch/pytorchcv.py\n",
            "Resolving raw.githubusercontent.com (raw.githubusercontent.com)... 185.199.111.133, 185.199.110.133, 185.199.108.133, ...\n",
            "Connecting to raw.githubusercontent.com (raw.githubusercontent.com)|185.199.111.133|:443... connected.\n",
            "HTTP request sent, awaiting response... 200 OK\n",
            "Length: 6540 (6.4K) [text/plain]\n",
            "Saving to: ‘pytorchcv.py’\n",
            "\n",
            "pytorchcv.py        100%[===================>]   6.39K  --.-KB/s    in 0s      \n",
            "\n",
            "2024-09-04 14:11:07 (79.5 MB/s) - ‘pytorchcv.py’ saved [6540/6540]\n",
            "\n"
          ]
        }
      ],
      "source": [
        "!wget https://raw.githubusercontent.com/MicrosoftDocs/pytorchfundamentals/main/computer-vision-pytorch/pytorchcv.py"
      ]
    },
    {
      "cell_type": "code",
      "source": [
        "import torch\n",
        "import torch.nn as nn\n",
        "import torchvision\n",
        "import matplotlib.pyplot as plt\n",
        "!pip install torchinfo\n",
        "from torchinfo import summary\n",
        "import numpy as np\n",
        "\n",
        "from pytorchcv import load_mnist, train, plot_results, plot_convolution, display_dataset\n",
        "load_mnist(batch_size=128)"
      ],
      "metadata": {
        "colab": {
          "base_uri": "https://localhost:8080/"
        },
        "id": "_8DPM8tqSAhX",
        "outputId": "479719ef-f406-406d-b2cc-abaf27493e3a"
      },
      "execution_count": 4,
      "outputs": [
        {
          "output_type": "stream",
          "name": "stdout",
          "text": [
            "Requirement already satisfied: torchinfo in /usr/local/lib/python3.10/dist-packages (1.8.0)\n",
            "Downloading http://yann.lecun.com/exdb/mnist/train-images-idx3-ubyte.gz\n",
            "Failed to download (trying next):\n",
            "HTTP Error 403: Forbidden\n",
            "\n",
            "Downloading https://ossci-datasets.s3.amazonaws.com/mnist/train-images-idx3-ubyte.gz\n",
            "Downloading https://ossci-datasets.s3.amazonaws.com/mnist/train-images-idx3-ubyte.gz to ./data/MNIST/raw/train-images-idx3-ubyte.gz\n"
          ]
        },
        {
          "output_type": "stream",
          "name": "stderr",
          "text": [
            "100%|██████████| 9912422/9912422 [00:00<00:00, 14992081.74it/s]\n"
          ]
        },
        {
          "output_type": "stream",
          "name": "stdout",
          "text": [
            "Extracting ./data/MNIST/raw/train-images-idx3-ubyte.gz to ./data/MNIST/raw\n",
            "\n",
            "Downloading http://yann.lecun.com/exdb/mnist/train-labels-idx1-ubyte.gz\n",
            "Failed to download (trying next):\n",
            "HTTP Error 403: Forbidden\n",
            "\n",
            "Downloading https://ossci-datasets.s3.amazonaws.com/mnist/train-labels-idx1-ubyte.gz\n",
            "Downloading https://ossci-datasets.s3.amazonaws.com/mnist/train-labels-idx1-ubyte.gz to ./data/MNIST/raw/train-labels-idx1-ubyte.gz\n"
          ]
        },
        {
          "output_type": "stream",
          "name": "stderr",
          "text": [
            "100%|██████████| 28881/28881 [00:00<00:00, 488517.35it/s]\n"
          ]
        },
        {
          "output_type": "stream",
          "name": "stdout",
          "text": [
            "Extracting ./data/MNIST/raw/train-labels-idx1-ubyte.gz to ./data/MNIST/raw\n",
            "\n",
            "Downloading http://yann.lecun.com/exdb/mnist/t10k-images-idx3-ubyte.gz\n",
            "Failed to download (trying next):\n",
            "HTTP Error 403: Forbidden\n",
            "\n",
            "Downloading https://ossci-datasets.s3.amazonaws.com/mnist/t10k-images-idx3-ubyte.gz\n",
            "Downloading https://ossci-datasets.s3.amazonaws.com/mnist/t10k-images-idx3-ubyte.gz to ./data/MNIST/raw/t10k-images-idx3-ubyte.gz\n"
          ]
        },
        {
          "output_type": "stream",
          "name": "stderr",
          "text": [
            "100%|██████████| 1648877/1648877 [00:01<00:00, 936144.42it/s] \n"
          ]
        },
        {
          "output_type": "stream",
          "name": "stdout",
          "text": [
            "Extracting ./data/MNIST/raw/t10k-images-idx3-ubyte.gz to ./data/MNIST/raw\n",
            "\n",
            "Downloading http://yann.lecun.com/exdb/mnist/t10k-labels-idx1-ubyte.gz\n",
            "Failed to download (trying next):\n",
            "HTTP Error 403: Forbidden\n",
            "\n",
            "Downloading https://ossci-datasets.s3.amazonaws.com/mnist/t10k-labels-idx1-ubyte.gz\n",
            "Downloading https://ossci-datasets.s3.amazonaws.com/mnist/t10k-labels-idx1-ubyte.gz to ./data/MNIST/raw/t10k-labels-idx1-ubyte.gz\n"
          ]
        },
        {
          "output_type": "stream",
          "name": "stderr",
          "text": [
            "100%|██████████| 4542/4542 [00:00<00:00, 3131765.37it/s]"
          ]
        },
        {
          "output_type": "stream",
          "name": "stdout",
          "text": [
            "Extracting ./data/MNIST/raw/t10k-labels-idx1-ubyte.gz to ./data/MNIST/raw\n",
            "\n"
          ]
        },
        {
          "output_type": "stream",
          "name": "stderr",
          "text": [
            "\n"
          ]
        }
      ]
    },
    {
      "cell_type": "code",
      "source": [
        "#@title Two Layered CNN\n",
        "class MultiLayerCNN(nn.Module):\n",
        "    def __init__(self):\n",
        "        super(MultiLayerCNN, self).__init__()\n",
        "        self.conv1 = nn.Conv2d(1, 10, 5)\n",
        "        self.pool = nn.MaxPool2d(2, 2)\n",
        "        self.conv2 = nn.Conv2d(10, 20, 5)\n",
        "        self.fc = nn.Linear(320,10)\n",
        "\n",
        "    def forward(self, x):\n",
        "        x = self.pool(nn.functional.relu(self.conv1(x)))\n",
        "        x = self.pool(nn.functional.relu(self.conv2(x)))\n",
        "        x = x.view(-1, 320) #flattening the tensor inside forward function using view function, similar to numpy's reshape function\n",
        "        x = nn.functional.log_softmax(self.fc(x),dim=1)\n",
        "        return x\n",
        "\n",
        "net = MultiLayerCNN()\n",
        "summary(net,input_size=(1,1,28,28))"
      ],
      "metadata": {
        "colab": {
          "base_uri": "https://localhost:8080/"
        },
        "id": "89hjwH_ASHwN",
        "outputId": "202f4a4f-7500-4141-e014-f545c14ae014"
      },
      "execution_count": 5,
      "outputs": [
        {
          "output_type": "execute_result",
          "data": {
            "text/plain": [
              "==========================================================================================\n",
              "Layer (type:depth-idx)                   Output Shape              Param #\n",
              "==========================================================================================\n",
              "MultiLayerCNN                            [1, 10]                   --\n",
              "├─Conv2d: 1-1                            [1, 10, 24, 24]           260\n",
              "├─MaxPool2d: 1-2                         [1, 10, 12, 12]           --\n",
              "├─Conv2d: 1-3                            [1, 20, 8, 8]             5,020\n",
              "├─MaxPool2d: 1-4                         [1, 20, 4, 4]             --\n",
              "├─Linear: 1-5                            [1, 10]                   3,210\n",
              "==========================================================================================\n",
              "Total params: 8,490\n",
              "Trainable params: 8,490\n",
              "Non-trainable params: 0\n",
              "Total mult-adds (M): 0.47\n",
              "==========================================================================================\n",
              "Input size (MB): 0.00\n",
              "Forward/backward pass size (MB): 0.06\n",
              "Params size (MB): 0.03\n",
              "Estimated Total Size (MB): 0.09\n",
              "=========================================================================================="
            ]
          },
          "metadata": {},
          "execution_count": 5
        }
      ]
    },
    {
      "cell_type": "code",
      "source": [
        "hist = train(net,train_loader,test_loader,epochs=5)"
      ],
      "metadata": {
        "colab": {
          "base_uri": "https://localhost:8080/"
        },
        "id": "_rut6_R4TCc9",
        "outputId": "145a1ba8-57d5-4c2e-a269-1e2f10ad02f6"
      },
      "execution_count": 6,
      "outputs": [
        {
          "output_type": "stream",
          "name": "stdout",
          "text": [
            "Epoch  0, Train acc=0.945, Val acc=0.975, Train loss=0.001, Val loss=0.001\n",
            "Epoch  1, Train acc=0.981, Val acc=0.984, Train loss=0.000, Val loss=0.000\n",
            "Epoch  2, Train acc=0.984, Val acc=0.986, Train loss=0.000, Val loss=0.000\n",
            "Epoch  3, Train acc=0.987, Val acc=0.980, Train loss=0.000, Val loss=0.001\n",
            "Epoch  4, Train acc=0.987, Val acc=0.984, Train loss=0.000, Val loss=0.000\n"
          ]
        }
      ]
    },
    {
      "cell_type": "code",
      "source": [
        "#@title Working with real images from the CIFAR-10 dataset\n",
        "transform = torchvision.transforms.Compose(\n",
        "    [torchvision.transforms.ToTensor(),\n",
        "     torchvision.transforms.Normalize((0.5, 0.5, 0.5), (0.5, 0.5, 0.5))])\n",
        "\n",
        "trainset = torchvision.datasets.CIFAR10(root='./data', train=True, download=True, transform=transform)\n",
        "trainloader = torch.utils.data.DataLoader(trainset, batch_size=14, shuffle=True)\n",
        "testset = torchvision.datasets.CIFAR10(root='./data', train=False, download=True, transform=transform)\n",
        "testloader = torch.utils.data.DataLoader(testset, batch_size=14, shuffle=False)\n",
        "classes = ('plane', 'car', 'bird', 'cat',\n",
        "           'deer', 'dog', 'frog', 'horse', 'ship', 'truck')"
      ],
      "metadata": {
        "colab": {
          "base_uri": "https://localhost:8080/"
        },
        "id": "7l4wbQHETzNw",
        "outputId": "5674f78c-5651-46b0-f00b-1167f0197275"
      },
      "execution_count": 7,
      "outputs": [
        {
          "output_type": "stream",
          "name": "stdout",
          "text": [
            "Downloading https://www.cs.toronto.edu/~kriz/cifar-10-python.tar.gz to ./data/cifar-10-python.tar.gz\n"
          ]
        },
        {
          "output_type": "stream",
          "name": "stderr",
          "text": [
            "100%|██████████| 170498071/170498071 [00:05<00:00, 30601249.01it/s]\n"
          ]
        },
        {
          "output_type": "stream",
          "name": "stdout",
          "text": [
            "Extracting ./data/cifar-10-python.tar.gz to ./data\n",
            "Files already downloaded and verified\n"
          ]
        }
      ]
    },
    {
      "cell_type": "code",
      "source": [
        "display_dataset(trainset,classes=classes)"
      ],
      "metadata": {
        "colab": {
          "base_uri": "https://localhost:8080/",
          "height": 149
        },
        "id": "v4W6PqI1UayN",
        "outputId": "848e7cfd-4fa4-4d35-e9b2-e86edbb25df2"
      },
      "execution_count": 8,
      "outputs": [
        {
          "output_type": "display_data",
          "data": {
            "text/plain": [
              "<Figure size 1500x300 with 10 Axes>"
            ],
            "image/png": "[encoded data removed]"
          },
          "metadata": {}
        }
      ]
    },
    {
      "cell_type": "code",
      "source": [
        "#@title Implementing LeNet\n",
        "class LeNet(nn.Module):\n",
        "    def __init__(self):\n",
        "        super(LeNet, self).__init__()\n",
        "        self.conv1 = nn.Conv2d(3, 6, 5)\n",
        "        self.pool = nn.MaxPool2d(2)\n",
        "        self.conv2 = nn.Conv2d(6, 16, 5)\n",
        "        self.conv3 = nn.Conv2d(16,120,5)\n",
        "        self.flat = nn.Flatten()\n",
        "        self.fc1 = nn.Linear(120,64)\n",
        "        self.fc2 = nn.Linear(64,10)\n",
        "\n",
        "    def forward(self, x):\n",
        "        x = self.pool(nn.functional.relu(self.conv1(x)))\n",
        "        x = self.pool(nn.functional.relu(self.conv2(x)))\n",
        "        x = nn.functional.relu(self.conv3(x))\n",
        "        x = self.flat(x)\n",
        "        x = nn.functional.relu(self.fc1(x))\n",
        "        x = self.fc2(x)\n",
        "        return x\n",
        "\n",
        "net = LeNet()\n",
        "\n",
        "summary(net,input_size=(1,3,32,32))"
      ],
      "metadata": {
        "colab": {
          "base_uri": "https://localhost:8080/"
        },
        "id": "2DUpTobPUi9H",
        "outputId": "e7de38b2-923a-44ac-bb9e-9b25e566246f"
      },
      "execution_count": 9,
      "outputs": [
        {
          "output_type": "execute_result",
          "data": {
            "text/plain": [
              "==========================================================================================\n",
              "Layer (type:depth-idx)                   Output Shape              Param #\n",
              "==========================================================================================\n",
              "LeNet                                    [1, 10]                   --\n",
              "├─Conv2d: 1-1                            [1, 6, 28, 28]            456\n",
              "├─MaxPool2d: 1-2                         [1, 6, 14, 14]            --\n",
              "├─Conv2d: 1-3                            [1, 16, 10, 10]           2,416\n",
              "├─MaxPool2d: 1-4                         [1, 16, 5, 5]             --\n",
              "├─Conv2d: 1-5                            [1, 120, 1, 1]            48,120\n",
              "├─Flatten: 1-6                           [1, 120]                  --\n",
              "├─Linear: 1-7                            [1, 64]                   7,744\n",
              "├─Linear: 1-8                            [1, 10]                   650\n",
              "==========================================================================================\n",
              "Total params: 59,386\n",
              "Trainable params: 59,386\n",
              "Non-trainable params: 0\n",
              "Total mult-adds (M): 0.66\n",
              "==========================================================================================\n",
              "Input size (MB): 0.01\n",
              "Forward/backward pass size (MB): 0.05\n",
              "Params size (MB): 0.24\n",
              "Estimated Total Size (MB): 0.30\n",
              "=========================================================================================="
            ]
          },
          "metadata": {},
          "execution_count": 9
        }
      ]
    },
    {
      "cell_type": "code",
      "source": [
        "opt = torch.optim.SGD(net.parameters(),lr=0.001,momentum=0.9)\n",
        "hist = train(net, trainloader, testloader, epochs=3, optimizer=opt, loss_fn=nn.CrossEntropyLoss())"
      ],
      "metadata": {
        "colab": {
          "base_uri": "https://localhost:8080/"
        },
        "id": "Wnka9ls9WVa2",
        "outputId": "b933f11d-8e82-48d8-e5fe-dd31a7804ab9"
      },
      "execution_count": 12,
      "outputs": [
        {
          "output_type": "stream",
          "name": "stdout",
          "text": [
            "Epoch  0, Train acc=0.238, Val acc=0.373, Train loss=0.146, Val loss=0.119\n",
            "Epoch  1, Train acc=0.426, Val acc=0.448, Train loss=0.111, Val loss=0.108\n",
            "Epoch  2, Train acc=0.499, Val acc=0.534, Train loss=0.099, Val loss=0.093\n"
          ]
        }
      ]
    }
  ]
}